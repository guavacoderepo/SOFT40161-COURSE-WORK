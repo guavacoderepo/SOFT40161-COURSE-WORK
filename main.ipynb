{
 "cells": [
  {
   "cell_type": "code",
   "execution_count": 3,
   "metadata": {},
   "outputs": [],
   "source": [
    "import pandas as pd\n",
    "from random import choice\n",
    "\n",
    "\n",
    "male = ['male', 'm', 'man', 'guy', 'cis male', 'male (cis)', 'cis man']\n",
    "female = ['female', 'f', 'woman', 'cis female', 'female (cis)', 'cis-female/femme']\n",
    "\n",
    "url = 'dataset/medical_cost.csv'\n",
    "\n",
    "df = pd.read_csv(url)\n",
    "df.head()\n",
    "\n",
    "\n",
    "# df[\"sex\"] = df[\"sex\"].apply(lambda x: choice(male) if x == 'male' else choice(female))"
   ]
  },
  {
   "cell_type": "code",
   "execution_count": 6,
   "metadata": {},
   "outputs": [],
   "source": [
    "df.to_csv('dataset/medical_survey.csv', index=False)"
   ]
  }
 ],
 "metadata": {
  "kernelspec": {
   "display_name": "venv",
   "language": "python",
   "name": "python3"
  },
  "language_info": {
   "codemirror_mode": {
    "name": "ipython",
    "version": 3
   },
   "file_extension": ".py",
   "mimetype": "text/x-python",
   "name": "python",
   "nbconvert_exporter": "python",
   "pygments_lexer": "ipython3",
   "version": "3.9.21"
  }
 },
 "nbformat": 4,
 "nbformat_minor": 2
}
